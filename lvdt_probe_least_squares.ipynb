{
 "cells": [
  {
   "cell_type": "code",
   "execution_count": 12,
   "id": "88e2349a",
   "metadata": {},
   "outputs": [],
   "source": [
    "import numpy as np \n",
    "import matplotlib.pyplot as plt \n"
   ]
  },
  {
   "cell_type": "markdown",
   "id": "8a6c0dea",
   "metadata": {},
   "source": [
    "We generate a excitation signal $x(t)$, on the form\n",
    "\n",
    "$$\n",
    "x(t) = A_e \\sin(\\omega t)\n",
    "$$\n",
    "\n",
    "And sense a resulting signal $y(t)$\n",
    "\n",
    "$$\n",
    "y(t) = A_s \\sin(\\omega t + \\phi)\n",
    "$$\n",
    "\n",
    "where only $A_s$ can change, note that it can take negative values. This value corelates to the position of the probe."
   ]
  },
  {
   "cell_type": "markdown",
   "id": "389a1ee8",
   "metadata": {},
   "source": [
    "Rewriting $y(t)$ in order to solve as least square problem:\n",
    "\n",
    "$$\n",
    "y(t) = A_s (\\sin(\\omega t) \\cos(\\phi) + \\cos(\\omega t) \\sin(\\phi))\n",
    "$$\n",
    "$$\n",
    "y(t) = A_s \\cos(\\phi) \\sin(\\omega t)  + A_s \\sin(\\phi) \\cos(\\omega t)\n",
    "$$\n",
    "$$\n",
    "y(t) = a_0 \\sin(\\omega t)  + a_1 \\cos(\\omega t)\n",
    "$$\n",
    "\n",
    "where the original parameters can be found by\n",
    "$$\n",
    "\\hat A_s = \\sqrt{a_0^2 + a_1 ^2}\n",
    "$$\n",
    "\n",
    "$$\n",
    "\\hat \\phi = \\texttt{atan2}(a_1,a_0)\n",
    "$$\n",
    "\n",
    "This does pose one problem, $A_s$ is always positive, and $\\phi$ adjusts in order to acomodate the sign change of $A_s$"
   ]
  },
  {
   "cell_type": "code",
   "execution_count": 13,
   "id": "b54c9f54",
   "metadata": {},
   "outputs": [],
   "source": [
    "from numpy import linalg\n",
    "\n",
    "\n",
    "def ls_sine_ident(t,y):\n",
    "\n",
    "    M = np.c_[np.sin(t), np.cos(t)]\n",
    "    sol = linalg.lstsq(M,y,rcond=None)\n",
    "\n",
    "    a0,a1 = sol[0]\n",
    "\n",
    "    A = np.sqrt(a0**2 + a1**2)\n",
    "    phi = np.atan2(a1,a0)\n",
    "    phi = np.rad2deg(phi)\n",
    "    phi = np.round(phi,2)\n",
    "\n",
    "    return A,phi\n"
   ]
  },
  {
   "cell_type": "code",
   "execution_count": 14,
   "id": "5c7bd329",
   "metadata": {},
   "outputs": [
    {
     "name": "stdout",
     "output_type": "stream",
     "text": [
      "(np.float64(1.0000000000000002), np.float64(39.0))\n",
      "(np.float64(1.0000000000000002), np.float64(-141.0))\n"
     ]
    }
   ],
   "source": [
    "t = np.linspace(0,2*np.pi)\n",
    "\n",
    "phi_off = np.deg2rad(39)\n",
    "\n",
    "y0 = np.sin(t + phi_off)\n",
    "y1 = -np.sin(t + phi_off)\n",
    "\n",
    "print(ls_sine_ident(t,y0))\n",
    "print(ls_sine_ident(t,y1))\n"
   ]
  },
  {
   "cell_type": "markdown",
   "id": "2d78cf3b",
   "metadata": {},
   "source": [
    "One solution is to calibrate the *constant* phase offset $\\phi$ and use it to compute the *sign true* $A_s^*$ as\n",
    "\n",
    "$$\n",
    "A_s^* = \\hat A_s \\cos(\\hat \\phi - \\phi_c)\n",
    "$$\n",
    "\n",
    "where $\\phi_c$ is the calibrated phase where $A_s$ is positive."
   ]
  },
  {
   "cell_type": "markdown",
   "id": "b281078b",
   "metadata": {},
   "source": [
    "An even simpler alternative is to check if the angle deviates more that 180 deg, i.e.\n",
    "\n",
    "This is pseudo-c, as I don't know all math function-calls in c\n",
    "```c\n",
    "float calculateAs(float a0, float a1){\n",
    "\n",
    "    float As = Math.sqrt(a0*a0, a1*a1);\n",
    "    float phi = Math.atan2(a1,a0);\n",
    "    float deltaPhi = phi - phiCalib;\n",
    "\n",
    "    if(Math.abs(deltaPhi)>Math.deg2rad(90)){\n",
    "        As = -1.0*As;\n",
    "    }\n",
    "    return As;\n",
    "}\n",
    "```"
   ]
  },
  {
   "cell_type": "markdown",
   "id": "ed2c1b45",
   "metadata": {},
   "source": [
    "The final least squares problem will be to identify the amplitude, phase and offset. Given $N$ measurements we need to solve\n",
    "\n",
    "\n",
    "$$\n",
    "M \\theta = Y\n",
    "$$\n",
    "\n",
    "\n",
    "$$\n",
    "M = \n",
    "\\begin{bmatrix}\n",
    "0 & 1 & 1 \\\\\n",
    "\\sin(\\Omega) & \\cos(\\Omega) & 1 \\\\\n",
    "\\sin(2\\Omega) & \\cos(2\\Omega) & 1 \\\\\n",
    "\\sin(3\\Omega) & \\cos(3\\Omega) & 1 \\\\\n",
    "\\vdots & \\vdots & \\vdots \\\\\n",
    "\\sin((N-1)\\Omega) & \\cos((N-1)\\Omega) & 1 \\\\\n",
    "\\end{bmatrix}\n",
    "$$\n",
    "\n",
    "$$\n",
    "\\begin{bmatrix}\n",
    "y_0 \\\\\n",
    "y_1 \\\\\n",
    "y_2 \\\\\n",
    "y_3 \\\\\n",
    "\\vdots \\\\\n",
    "n_{N-1}\n",
    "\\end{bmatrix}\n",
    "$$\n",
    "\n",
    "One easy solution is to use the pseudo inverse by multipling each side with $M^T$\n",
    "\n",
    "$$\n",
    "M^T M \\theta = M^T Y\n",
    "$$\n",
    "\n",
    "$$\n",
    "\\theta = (M^T M)^{-1} M^T Y\n",
    "$$\n"
   ]
  },
  {
   "cell_type": "markdown",
   "id": "e15dc248",
   "metadata": {},
   "source": [
    "$$\n",
    "M = \n",
    "\\begin{bmatrix}\n",
    "m_{sin} & m_{cos} & m_1\n",
    "\\end{bmatrix}\n",
    "$$\n",
    "$$\n",
    "M^T M = \n",
    "\\begin{bmatrix}\n",
    "m_{sin}^T m_{sin} & m_{sin}^T m_{cos} & m_{sin}^T m_1 \\\\\n",
    "m_{cos}^T m_{sin} & m_{cos}^T m_{cos} & m_{cos}^T m_1 \\\\\n",
    "m_1^T m_{sin} & m_1^T m_{cos} & m_1^T m_1 \\\\\n",
    "\\end{bmatrix}\n",
    "$$"
   ]
  },
  {
   "cell_type": "code",
   "execution_count": 15,
   "id": "7d477cd7",
   "metadata": {},
   "outputs": [
    {
     "name": "stdout",
     "output_type": "stream",
     "text": [
      "True theta [0.1337 0.42   4.337 ]\n",
      "Est theta [0.1337 0.42   4.337 ]\n"
     ]
    }
   ],
   "source": [
    "\n",
    "theta_true = np.array([0.1337, 0.42, 4.337])\n",
    "\n",
    "M = np.c_[np.sin(t), np.cos(t), np.ones(len(t))]\n",
    "\n",
    "y3 = M@theta_true \n",
    "\n",
    "#plt.plot(t,y3)\n",
    "\n",
    "theta_hat = np.linalg.inv(M.T@M)@M.T@y3\n",
    "\n",
    "print(\"True theta\", theta_true)\n",
    "print(\"Est theta\", theta_hat)\n",
    "\n",
    "m11 = 0 \n",
    "m12 = 0\n",
    "m13 = 0\n",
    "\n",
    "m22 = 0\n",
    "m23 = 0 \n",
    "m33 = len(t)\n",
    "\n",
    "MtY1 = 0 \n",
    "MtY2 = 0 \n",
    "MtY3 = 0 \n",
    "\n",
    "Y = y3\n",
    "\n",
    "for i,ti in enumerate(t):\n",
    "\n",
    "    m11 += np.sin(ti)**2\n",
    "    m12 += np.sin(ti)*np.cos(ti)\n",
    "    m13 += np.sin(ti)\n",
    "\n",
    "    m22 += np.cos(ti)**2\n",
    "    m23 += np.cos(ti)\n",
    "\n",
    "    MtY1 += np.sin(ti)*Y[i]\n",
    "    MtY2 += np.cos(ti)*Y[i]\n",
    "    MtY3 += Y[i]\n",
    "\n"
   ]
  },
  {
   "cell_type": "markdown",
   "id": "44eb1e4a",
   "metadata": {},
   "source": [
    "C code for matrix ionverse (from stack overflow)\n",
    "\n",
    "```c\n",
    "// computes the inverse of a matrix m\n",
    "double det = m(0, 0) * (m(1, 1) * m(2, 2) - m(2, 1) * m(1, 2)) -\n",
    "             m(0, 1) * (m(1, 0) * m(2, 2) - m(1, 2) * m(2, 0)) +\n",
    "             m(0, 2) * (m(1, 0) * m(2, 1) - m(1, 1) * m(2, 0));\n",
    "\n",
    "double invdet = 1 / det;\n",
    "\n",
    "Matrix33d minv; // inverse of matrix m\n",
    "minv(0, 0) = (m(1, 1) * m(2, 2) - m(2, 1) * m(1, 2)) * invdet;\n",
    "minv(0, 1) = (m(0, 2) * m(2, 1) - m(0, 1) * m(2, 2)) * invdet;\n",
    "minv(0, 2) = (m(0, 1) * m(1, 2) - m(0, 2) * m(1, 1)) * invdet;\n",
    "minv(1, 0) = (m(1, 2) * m(2, 0) - m(1, 0) * m(2, 2)) * invdet;\n",
    "minv(1, 1) = (m(0, 0) * m(2, 2) - m(0, 2) * m(2, 0)) * invdet;\n",
    "minv(1, 2) = (m(1, 0) * m(0, 2) - m(0, 0) * m(1, 2)) * invdet;\n",
    "minv(2, 0) = (m(1, 0) * m(2, 1) - m(2, 0) * m(1, 1)) * invdet;\n",
    "minv(2, 1) = (m(2, 0) * m(0, 1) - m(0, 0) * m(2, 1)) * invdet;\n",
    "minv(2, 2) = (m(0, 0) * m(1, 1) - m(1, 0) * m(0, 1)) * invdet;\n",
    "\n",
    "```"
   ]
  },
  {
   "cell_type": "code",
   "execution_count": null,
   "id": "c32bbd02",
   "metadata": {},
   "outputs": [
    {
     "data": {
      "text/plain": [
       "array([[ 0.00000000e+00,  4.81482486e-35,  0.00000000e+00],\n",
       "       [ 4.81482486e-35,  0.00000000e+00, -1.08420217e-19],\n",
       "       [ 0.00000000e+00,  0.00000000e+00,  0.00000000e+00]])"
      ]
     },
     "execution_count": 25,
     "metadata": {},
     "output_type": "execute_result"
    }
   ],
   "source": [
    "\n",
    "\n",
    "def inv_m(m):\n",
    "\n",
    "    minv = np.zeros((3,3))\n",
    "    det = m[0, 0] * (m[1, 1] * m[2, 2] - m[2, 1] * m[1, 2]) -  m[0, 1] * (m[1, 0] * m[2, 2] - m[1, 2] * m[2, 0]) +  m[0, 2] * (m[1, 0] * m[2, 1] - m[1, 1] * m[2, 0])\n",
    "\n",
    "    invdet = 1 / det\n",
    "\n",
    "    minv[0, 0] = (m[1, 1] * m[2, 2] - m[2, 1] * m[1, 2]) * invdet\n",
    "    minv[0, 1] = (m[0, 2] * m[2, 1] - m[0, 1] * m[2, 2]) * invdet\n",
    "    minv[0, 2] = (m[0, 1] * m[1, 2] - m[0, 2] * m[1, 1]) * invdet\n",
    "    minv[1, 0] = (m[1, 2] * m[2, 0] - m[1, 0] * m[2, 2]) * invdet\n",
    "    minv[1, 1] = (m[0, 0] * m[2, 2] - m[0, 2] * m[2, 0]) * invdet\n",
    "    minv[1, 2] = (m[1, 0] * m[0, 2] - m[0, 0] * m[1, 2]) * invdet\n",
    "    minv[2, 0] = (m[1, 0] * m[2, 1] - m[2, 0] * m[1, 1]) * invdet\n",
    "    minv[2, 1] = (m[2, 0] * m[0, 1] - m[0, 0] * m[2, 1]) * invdet\n",
    "    minv[2, 2] = (m[0, 0] * m[1, 1] - m[1, 0] * m[0, 1]) * invdet\n",
    "\n",
    "    return minv\n",
    "\n",
    "\n",
    "\n",
    "c_inv = inv_m(M.T@M)\n",
    "np_inv = np.linalg.inv(M.T@M)\n",
    "\n",
    "c_inv - np_inv\n"
   ]
  },
  {
   "cell_type": "code",
   "execution_count": 28,
   "id": "8997a5b8",
   "metadata": {},
   "outputs": [
    {
     "name": "stdout",
     "output_type": "stream",
     "text": [
      "C-code tehta 0.13369999999999932 0.4200000000000008 4.336999999999998\n",
      "true theta [0.1337 0.42   4.337 ]\n"
     ]
    }
   ],
   "source": [
    "theta_c_1 = MtY1*c_inv[0,0] + MtY2*c_inv[0,1] + MtY3*c_inv[0,2]\n",
    "theta_c_2 = MtY1*c_inv[1,0] + MtY2*c_inv[1,1] + MtY3*c_inv[1,2]\n",
    "theta_c_3 = MtY1*c_inv[2,0] + MtY2*c_inv[2,1] + MtY3*c_inv[2,2]\n",
    "\n",
    "print('C-code tehta', theta_c_1, theta_c_2, theta_c_3)\n",
    "print(\"true theta\", theta_true)"
   ]
  }
 ],
 "metadata": {
  "kernelspec": {
   "display_name": "Python 3",
   "language": "python",
   "name": "python3"
  },
  "language_info": {
   "codemirror_mode": {
    "name": "ipython",
    "version": 3
   },
   "file_extension": ".py",
   "mimetype": "text/x-python",
   "name": "python",
   "nbconvert_exporter": "python",
   "pygments_lexer": "ipython3",
   "version": "3.13.2"
  }
 },
 "nbformat": 4,
 "nbformat_minor": 5
}
